{
 "cells": [
  {
   "cell_type": "code",
   "execution_count": null,
   "id": "a700aec4-d6d7-4dfa-be32-5dc9cf9c0e65",
   "metadata": {},
   "outputs": [],
   "source": []
  }
 ],
 "metadata": {
  "kernelspec": {
   "display_name": "",
   "name": ""
  },
  "language_info": {
   "name": ""
  }
 },
 "nbformat": 4,
 "nbformat_minor": 5
}
